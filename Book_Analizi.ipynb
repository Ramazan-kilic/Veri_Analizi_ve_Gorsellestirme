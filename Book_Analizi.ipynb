{
  "nbformat": 4,
  "nbformat_minor": 0,
  "metadata": {
    "colab": {
      "provenance": []
    },
    "kernelspec": {
      "name": "python3",
      "display_name": "Python 3"
    },
    "language_info": {
      "name": "python"
    }
  },
  "cells": [
    {
      "cell_type": "markdown",
      "source": [
        "**Spark Bağlantısı ve Veri Okuma**"
      ],
      "metadata": {
        "id": "jjv-CX9vtI1L"
      }
    },
    {
      "cell_type": "code",
      "execution_count": 1,
      "metadata": {
        "id": "jWJuDe-8ZZPv",
        "colab": {
          "base_uri": "https://localhost:8080/"
        },
        "outputId": "0fc2b58f-fd48-4169-d338-c8dd12f0030c"
      },
      "outputs": [
        {
          "output_type": "stream",
          "name": "stdout",
          "text": [
            "Collecting pyspark\n",
            "  Downloading pyspark-3.5.1.tar.gz (317.0 MB)\n",
            "\u001b[2K     \u001b[90m━━━━━━━━━━━━━━━━━━━━━━━━━━━━━━━━━━━━━━━━\u001b[0m \u001b[32m317.0/317.0 MB\u001b[0m \u001b[31m3.2 MB/s\u001b[0m eta \u001b[36m0:00:00\u001b[0m\n",
            "\u001b[?25h  Preparing metadata (setup.py) ... \u001b[?25l\u001b[?25hdone\n",
            "Requirement already satisfied: py4j==0.10.9.7 in /usr/local/lib/python3.10/dist-packages (from pyspark) (0.10.9.7)\n",
            "Building wheels for collected packages: pyspark\n",
            "  Building wheel for pyspark (setup.py) ... \u001b[?25l\u001b[?25hdone\n",
            "  Created wheel for pyspark: filename=pyspark-3.5.1-py2.py3-none-any.whl size=317488491 sha256=240663818e782d02138f113479b0ce07cac2bd52841125d42dacde7002819183\n",
            "  Stored in directory: /root/.cache/pip/wheels/80/1d/60/2c256ed38dddce2fdd93be545214a63e02fbd8d74fb0b7f3a6\n",
            "Successfully built pyspark\n",
            "Installing collected packages: pyspark\n",
            "Successfully installed pyspark-3.5.1\n"
          ]
        }
      ],
      "source": [
        "pip install pyspark"
      ]
    },
    {
      "cell_type": "code",
      "source": [
        "from pyspark.sql import SparkSession"
      ],
      "metadata": {
        "id": "_-cpQB97bX_g"
      },
      "execution_count": 52,
      "outputs": []
    },
    {
      "cell_type": "code",
      "source": [
        "Spark = SparkSession.builder.appName('Movie Analysis').getOrCreate()"
      ],
      "metadata": {
        "id": "nF-FdcYxbYCq"
      },
      "execution_count": 53,
      "outputs": []
    },
    {
      "cell_type": "code",
      "source": [
        "df_Book = Spark.read.csv(\"books.csv\",header = \"True\", inferSchema=\"True\")"
      ],
      "metadata": {
        "id": "f2zDxW9BxRB7"
      },
      "execution_count": 107,
      "outputs": []
    },
    {
      "cell_type": "markdown",
      "source": [
        " **Veri İnceleme**"
      ],
      "metadata": {
        "id": "mLMZjGqKt9m7"
      }
    },
    {
      "cell_type": "code",
      "source": [
        "df_Book.show(3)"
      ],
      "metadata": {
        "id": "JmDZJl4bbYIL",
        "colab": {
          "base_uri": "https://localhost:8080/"
        },
        "outputId": "ebfbfe05-3f63-45e7-da53-7e9573c5e5ad"
      },
      "execution_count": 56,
      "outputs": [
        {
          "output_type": "stream",
          "name": "stdout",
          "text": [
            "+---+-------+------------+-------+-----------+---------+----------------+--------------------+-------------------------+--------------------+--------------------+-------------+--------------+-------------+------------------+-----------------------+---------+---------+---------+---------+---------+--------------------+--------------------+\n",
            "| id|book_id|best_book_id|work_id|books_count|     isbn|          isbn13|             authors|original_publication_year|      original_title|               title|language_code|average_rating|ratings_count|work_ratings_count|work_text_reviews_count|ratings_1|ratings_2|ratings_3|ratings_4|ratings_5|           image_url|     small_image_url|\n",
            "+---+-------+------------+-------+-----------+---------+----------------+--------------------+-------------------------+--------------------+--------------------+-------------+--------------+-------------+------------------+-----------------------+---------+---------+---------+---------+---------+--------------------+--------------------+\n",
            "|  1|2767052|     2767052|2792775|        272|439023483|9.78043902348E12|     Suzanne Collins|                   2008.0|    The Hunger Games|The Hunger Games ...|          eng|          4.34|      4780653|           4942365|                 155254|  66715.0|   127936|   560092|  1481305|  2706317|https://images.gr...|https://images.gr...|\n",
            "|  2|      3|           3|4640799|        491|439554934|9.78043955493E12|J.K. Rowling, Mar...|                   1997.0|Harry Potter and ...|Harry Potter and ...|          eng|          4.44|      4602479|           4800065|                  75867|  75504.0|   101676|   455024|  1156318|  3011543|https://images.gr...|https://images.gr...|\n",
            "|  3|  41865|       41865|3212258|        226|316015849|9.78031601584E12|     Stephenie Meyer|                   2005.0|            Twilight|Twilight (Twiligh...|        en-US|          3.57|      3866839|           3916824|                  95009| 456191.0|   436802|   793319|   875073|  1355439|https://images.gr...|https://images.gr...|\n",
            "+---+-------+------------+-------+-----------+---------+----------------+--------------------+-------------------------+--------------------+--------------------+-------------+--------------+-------------+------------------+-----------------------+---------+---------+---------+---------+---------+--------------------+--------------------+\n",
            "only showing top 3 rows\n",
            "\n"
          ]
        }
      ]
    },
    {
      "cell_type": "code",
      "source": [
        "df_Book.printSchema()"
      ],
      "metadata": {
        "id": "syNhFpV2bYNR",
        "colab": {
          "base_uri": "https://localhost:8080/"
        },
        "outputId": "dfa682f2-5764-4ac7-814a-679541833d2c"
      },
      "execution_count": 57,
      "outputs": [
        {
          "output_type": "stream",
          "name": "stdout",
          "text": [
            "root\n",
            " |-- id: integer (nullable = true)\n",
            " |-- book_id: integer (nullable = true)\n",
            " |-- best_book_id: integer (nullable = true)\n",
            " |-- work_id: integer (nullable = true)\n",
            " |-- books_count: integer (nullable = true)\n",
            " |-- isbn: string (nullable = true)\n",
            " |-- isbn13: double (nullable = true)\n",
            " |-- authors: string (nullable = true)\n",
            " |-- original_publication_year: double (nullable = true)\n",
            " |-- original_title: string (nullable = true)\n",
            " |-- title: string (nullable = true)\n",
            " |-- language_code: string (nullable = true)\n",
            " |-- average_rating: string (nullable = true)\n",
            " |-- ratings_count: string (nullable = true)\n",
            " |-- work_ratings_count: string (nullable = true)\n",
            " |-- work_text_reviews_count: string (nullable = true)\n",
            " |-- ratings_1: double (nullable = true)\n",
            " |-- ratings_2: integer (nullable = true)\n",
            " |-- ratings_3: integer (nullable = true)\n",
            " |-- ratings_4: integer (nullable = true)\n",
            " |-- ratings_5: integer (nullable = true)\n",
            " |-- image_url: string (nullable = true)\n",
            " |-- small_image_url: string (nullable = true)\n",
            "\n"
          ]
        }
      ]
    },
    {
      "cell_type": "markdown",
      "source": [
        "**Veri İşleme ve Analiz**"
      ],
      "metadata": {
        "id": "mpfz04XauP_D"
      }
    },
    {
      "cell_type": "code",
      "source": [
        "df_rating = Spark.read.csv(\"ratings.csv\", header = \"True\", inferSchema=\"True\")"
      ],
      "metadata": {
        "id": "Lqqmv0IXbYP1"
      },
      "execution_count": 58,
      "outputs": []
    },
    {
      "cell_type": "code",
      "source": [
        "df_rating.show(3)"
      ],
      "metadata": {
        "id": "EBOMbWGsbYVL",
        "colab": {
          "base_uri": "https://localhost:8080/"
        },
        "outputId": "4b144d2a-373c-4ca4-82b7-8a1568dcaf80"
      },
      "execution_count": 59,
      "outputs": [
        {
          "output_type": "stream",
          "name": "stdout",
          "text": [
            "+-------+-------+------+\n",
            "|book_id|user_id|rating|\n",
            "+-------+-------+------+\n",
            "|      1|    314|     5|\n",
            "|      1|    439|     3|\n",
            "|      1|    588|     5|\n",
            "+-------+-------+------+\n",
            "only showing top 3 rows\n",
            "\n"
          ]
        }
      ]
    },
    {
      "cell_type": "code",
      "source": [
        "df_rating.printSchema()"
      ],
      "metadata": {
        "colab": {
          "base_uri": "https://localhost:8080/"
        },
        "id": "hoPScS5P3r7O",
        "outputId": "8fa7394c-58ff-49dd-dade-c25e906ae312"
      },
      "execution_count": 60,
      "outputs": [
        {
          "output_type": "stream",
          "name": "stdout",
          "text": [
            "root\n",
            " |-- book_id: integer (nullable = true)\n",
            " |-- user_id: integer (nullable = true)\n",
            " |-- rating: integer (nullable = true)\n",
            "\n"
          ]
        }
      ]
    },
    {
      "cell_type": "code",
      "source": [
        "df_rating.groupBy(\"book_id\").avg(\"rating\").show(5)"
      ],
      "metadata": {
        "id": "61MRin0ObYap",
        "colab": {
          "base_uri": "https://localhost:8080/"
        },
        "outputId": "a3d324bc-68ab-4b71-dede-111dd27181be"
      },
      "execution_count": 61,
      "outputs": [
        {
          "output_type": "stream",
          "name": "stdout",
          "text": [
            "+-------+-----------+\n",
            "|book_id|avg(rating)|\n",
            "+-------+-----------+\n",
            "|    148|       3.57|\n",
            "|    463|       3.99|\n",
            "|    471|       3.84|\n",
            "|    496|       3.79|\n",
            "|    833|       3.44|\n",
            "+-------+-----------+\n",
            "only showing top 5 rows\n",
            "\n"
          ]
        }
      ]
    },
    {
      "cell_type": "code",
      "source": [
        "df_rating.groupBy(\"book_id\").avg(\"rating\").orderBy(\"avg(rating)\").show()"
      ],
      "metadata": {
        "id": "e2M0yWY5bYgm",
        "colab": {
          "base_uri": "https://localhost:8080/"
        },
        "outputId": "5044b3dc-1e11-4cf0-c5b8-0d6b9250fa78"
      },
      "execution_count": 62,
      "outputs": [
        {
          "output_type": "stream",
          "name": "stdout",
          "text": [
            "+-------+------------------+\n",
            "|book_id|       avg(rating)|\n",
            "+-------+------------------+\n",
            "|   1793|              1.96|\n",
            "|   4045| 2.235294117647059|\n",
            "|   7636|            2.3125|\n",
            "|   1822| 2.350515463917526|\n",
            "|   1409|              2.43|\n",
            "|   4399|2.4574468085106385|\n",
            "|   4991| 2.462686567164179|\n",
            "|   3550|              2.49|\n",
            "|   4009|              2.53|\n",
            "|   4283|              2.54|\n",
            "|   4282|2.5555555555555554|\n",
            "|   8466|2.5806451612903225|\n",
            "|   8874|              2.61|\n",
            "|   5706| 2.654320987654321|\n",
            "|   8007|              2.67|\n",
            "|   2749|2.6702127659574466|\n",
            "|   4614|              2.71|\n",
            "|   9523|2.7157894736842105|\n",
            "|   8166|              2.73|\n",
            "|   9021|              2.74|\n",
            "+-------+------------------+\n",
            "only showing top 20 rows\n",
            "\n"
          ]
        }
      ]
    },
    {
      "cell_type": "code",
      "source": [
        "df =df_rating.groupBy(\"book_id\").avg(\"rating\").orderBy(\"avg(rating)\",ascending=False)"
      ],
      "metadata": {
        "id": "w04dcsYlGjVD"
      },
      "execution_count": 63,
      "outputs": []
    },
    {
      "cell_type": "code",
      "source": [
        "from pyspark.sql.functions import *"
      ],
      "metadata": {
        "id": "ZaTR6XA8GjPl"
      },
      "execution_count": 64,
      "outputs": []
    },
    {
      "cell_type": "code",
      "source": [
        "df.select(\"book_id\", bround(\"avg(rating)\",2)).show()"
      ],
      "metadata": {
        "id": "2HTpO9JmGjNR",
        "colab": {
          "base_uri": "https://localhost:8080/"
        },
        "outputId": "a1c9af91-e2d0-471a-8cf2-4fbb46941ba1"
      },
      "execution_count": 65,
      "outputs": [
        {
          "output_type": "stream",
          "name": "stdout",
          "text": [
            "+-------+----------------------+\n",
            "|book_id|bround(avg(rating), 2)|\n",
            "+-------+----------------------+\n",
            "|   7947|                  4.82|\n",
            "|   5207|                  4.78|\n",
            "|   6920|                  4.78|\n",
            "|   9566|                  4.78|\n",
            "|   8946|                  4.77|\n",
            "|   6361|                  4.77|\n",
            "|   3275|                  4.77|\n",
            "|   4483|                  4.75|\n",
            "|   5580|                  4.75|\n",
            "|   6590|                  4.75|\n",
            "|   1308|                  4.74|\n",
            "|   3628|                  4.73|\n",
            "|   8978|                  4.73|\n",
            "|   3753|                  4.72|\n",
            "|   8109|                  4.71|\n",
            "|   1788|                   4.7|\n",
            "|   9076|                   4.7|\n",
            "|   8663|                  4.69|\n",
            "|   9141|                  4.69|\n",
            "|   2244|                  4.68|\n",
            "+-------+----------------------+\n",
            "only showing top 20 rows\n",
            "\n"
          ]
        }
      ]
    },
    {
      "cell_type": "code",
      "source": [
        "df_rating = df.select(\"book_id\",bround(\"avg(rating)\",2)).withColumnRenamed(\"bround(avg(rating), 2)\",\"rating\")"
      ],
      "metadata": {
        "id": "D41B5RsYtU64"
      },
      "execution_count": 66,
      "outputs": []
    },
    {
      "cell_type": "code",
      "source": [
        "df_rating.show()"
      ],
      "metadata": {
        "id": "rIQPk0hvrEP8",
        "colab": {
          "base_uri": "https://localhost:8080/"
        },
        "outputId": "5016290c-be6e-41ae-efe3-30110884ed58"
      },
      "execution_count": 67,
      "outputs": [
        {
          "output_type": "stream",
          "name": "stdout",
          "text": [
            "+-------+------+\n",
            "|book_id|rating|\n",
            "+-------+------+\n",
            "|   7947|  4.82|\n",
            "|   5207|  4.78|\n",
            "|   6920|  4.78|\n",
            "|   9566|  4.78|\n",
            "|   8946|  4.77|\n",
            "|   6361|  4.77|\n",
            "|   3275|  4.77|\n",
            "|   4483|  4.75|\n",
            "|   5580|  4.75|\n",
            "|   6590|  4.75|\n",
            "|   1308|  4.74|\n",
            "|   3628|  4.73|\n",
            "|   8978|  4.73|\n",
            "|   3753|  4.72|\n",
            "|   8109|  4.71|\n",
            "|   1788|   4.7|\n",
            "|   9076|   4.7|\n",
            "|   8663|  4.69|\n",
            "|   9141|  4.69|\n",
            "|   2244|  4.68|\n",
            "+-------+------+\n",
            "only showing top 20 rows\n",
            "\n"
          ]
        }
      ]
    },
    {
      "cell_type": "code",
      "source": [
        "df_rating.printSchema()"
      ],
      "metadata": {
        "id": "_d3c39xyrENg",
        "colab": {
          "base_uri": "https://localhost:8080/"
        },
        "outputId": "4b06df5b-3b74-47ce-d9ac-38b009bc7851"
      },
      "execution_count": 68,
      "outputs": [
        {
          "output_type": "stream",
          "name": "stdout",
          "text": [
            "root\n",
            " |-- book_id: integer (nullable = true)\n",
            " |-- rating: double (nullable = true)\n",
            "\n"
          ]
        }
      ]
    },
    {
      "cell_type": "code",
      "source": [
        "Book_df=df_Book.select(\"book_id\",\"title\")"
      ],
      "metadata": {
        "id": "ggF-zWnPhZDC"
      },
      "execution_count": 104,
      "outputs": []
    },
    {
      "cell_type": "code",
      "source": [
        "dfn=Book_df.join(df_rating, on=\"book_id\", how=\"inner\")"
      ],
      "metadata": {
        "id": "2VRK8EEXhY95"
      },
      "execution_count": 105,
      "outputs": []
    },
    {
      "cell_type": "code",
      "source": [
        "dfn.orderBy(col(\"rating\").desc()).show()"
      ],
      "metadata": {
        "colab": {
          "base_uri": "https://localhost:8080/"
        },
        "id": "3Lm71KEn3k7_",
        "outputId": "f7ab4a28-6abc-45e0-fee0-341aa587330e"
      },
      "execution_count": 106,
      "outputs": [
        {
          "output_type": "stream",
          "name": "stdout",
          "text": [
            "+-------+--------------------+------+\n",
            "|book_id|               title|rating|\n",
            "+-------+--------------------+------+\n",
            "|   9566|Still Life with W...|  4.78|\n",
            "|   4708|The Beautiful and...|  4.66|\n",
            "|   9569|     Villa Incognito|  4.62|\n",
            "|   9531|Peter and the Sha...|  4.56|\n",
            "|   3885|The Taste of Home...|  4.55|\n",
            "|   5344|          Hard Times|  4.54|\n",
            "|   2767|A People's Histor...|  4.54|\n",
            "|   2865|Girl with a Pearl...|  4.53|\n",
            "|    976|     Deception Point|   4.5|\n",
            "|   9712|Love in the Time ...|   4.5|\n",
            "|   7039|Tears of the Gira...|  4.49|\n",
            "|   6862|           Amsterdam|  4.49|\n",
            "|   1618|The Curious Incid...|  4.48|\n",
            "|   5346|      The Last Juror|  4.47|\n",
            "|   9943| The Atonement Child|  4.46|\n",
            "|   4373|First They Killed...|  4.45|\n",
            "|   2956|The Adventures of...|  4.44|\n",
            "|    998|The Millionaire N...|  4.44|\n",
            "|   3698|  The Quiet American|  4.43|\n",
            "|   8648|Xenocide (Ender's...|  4.43|\n",
            "+-------+--------------------+------+\n",
            "only showing top 20 rows\n",
            "\n"
          ]
        }
      ]
    },
    {
      "cell_type": "markdown",
      "source": [
        "**Veri Filtreleme ve Analiz:**"
      ],
      "metadata": {
        "id": "QWdmbNUHuwIX"
      }
    },
    {
      "cell_type": "code",
      "source": [
        "df_Book.orderBy(\"original_publication_year\", ascending=True).select(\"title\", \"original_publication_year\").show(10)"
      ],
      "metadata": {
        "colab": {
          "base_uri": "https://localhost:8080/"
        },
        "id": "4xBmzmUhm1Vj",
        "outputId": "1c634dca-e20d-45a6-e693-335ff2e1fc84"
      },
      "execution_count": 86,
      "outputs": [
        {
          "output_type": "stream",
          "name": "stdout",
          "text": [
            "+--------------------+-------------------------+\n",
            "|               title|original_publication_year|\n",
            "+--------------------+-------------------------+\n",
            "|The Lord of the R...|                     NULL|\n",
            "|   Nancy Drew: #1-64|                     NULL|\n",
            "|Marked / Betrayed...|                     NULL|\n",
            "|The Lord of the R...|                     NULL|\n",
            "|BookRags Summary:...|                     NULL|\n",
            "|Dr. Seuss's Green...|                     NULL|\n",
            "|The Doomsday Key ...|                     NULL|\n",
            "|Absolute Boyfrien...|                     NULL|\n",
            "|A Shade of Blood ...|                     NULL|\n",
            "|Twilight: The Com...|                     NULL|\n",
            "+--------------------+-------------------------+\n",
            "only showing top 10 rows\n",
            "\n"
          ]
        }
      ]
    },
    {
      "cell_type": "code",
      "source": [
        "df_Book.filter(\"original_publication_year is not null AND original_title is not null\" ).show()"
      ],
      "metadata": {
        "id": "lGRVksz-3ksl",
        "colab": {
          "base_uri": "https://localhost:8080/"
        },
        "outputId": "3b973bd3-bc90-49f9-a6e3-f9e38146324f"
      },
      "execution_count": 85,
      "outputs": [
        {
          "output_type": "stream",
          "name": "stdout",
          "text": [
            "+---+--------+------------+--------+-----------+----------+----------------+--------------------+-------------------------+--------------------+--------------------+-------------+--------------+-------------+------------------+-----------------------+---------+---------+---------+---------+---------+--------------------+--------------------+\n",
            "| id| book_id|best_book_id| work_id|books_count|      isbn|          isbn13|             authors|original_publication_year|      original_title|               title|language_code|average_rating|ratings_count|work_ratings_count|work_text_reviews_count|ratings_1|ratings_2|ratings_3|ratings_4|ratings_5|           image_url|     small_image_url|\n",
            "+---+--------+------------+--------+-----------+----------+----------------+--------------------+-------------------------+--------------------+--------------------+-------------+--------------+-------------+------------------+-----------------------+---------+---------+---------+---------+---------+--------------------+--------------------+\n",
            "|  1| 2767052|     2767052| 2792775|        272| 439023483|9.78043902348E12|     Suzanne Collins|                   2008.0|    The Hunger Games|The Hunger Games ...|          eng|          4.34|      4780653|           4942365|                 155254|  66715.0|   127936|   560092|  1481305|  2706317|https://images.gr...|https://images.gr...|\n",
            "|  2|       3|           3| 4640799|        491| 439554934|9.78043955493E12|J.K. Rowling, Mar...|                   1997.0|Harry Potter and ...|Harry Potter and ...|          eng|          4.44|      4602479|           4800065|                  75867|  75504.0|   101676|   455024|  1156318|  3011543|https://images.gr...|https://images.gr...|\n",
            "|  3|   41865|       41865| 3212258|        226| 316015849|9.78031601584E12|     Stephenie Meyer|                   2005.0|            Twilight|Twilight (Twiligh...|        en-US|          3.57|      3866839|           3916824|                  95009| 456191.0|   436802|   793319|   875073|  1355439|https://images.gr...|https://images.gr...|\n",
            "|  4|    2657|        2657| 3275794|        487|  61120081|9.78006112008E12|          Harper Lee|                   1960.0|To Kill a Mocking...|To Kill a Mocking...|          eng|          4.25|      3198671|           3340896|                  72586|  60427.0|   117415|   446835|  1001952|  1714267|https://images.gr...|https://images.gr...|\n",
            "|  5|    4671|        4671|  245494|       1356| 743273567|9.78074327356E12| F. Scott Fitzgerald|                   1925.0|    The Great Gatsby|    The Great Gatsby|          eng|          3.89|      2683664|           2773745|                  51992|  86236.0|   197621|   606158|   936012|   947718|https://images.gr...|https://images.gr...|\n",
            "|  6|11870085|    11870085|16827462|        226| 525478817|9.78052547881E12|          John Green|                   2012.0|The Fault in Our ...|The Fault in Our ...|          eng|          4.26|      2346404|           2478609|                 140739|  47994.0|    92723|   327550|   698471|  1311871|https://images.gr...|https://images.gr...|\n",
            "|  7|    5907|        5907| 1540236|        969| 618260307| 9.7806182603E12|      J.R.R. Tolkien|                   1937.0|The Hobbit or The...|          The Hobbit|        en-US|          4.25|      2071616|           2196809|                  37653|  46023.0|    76784|   288649|   665635|  1119718|https://images.gr...|https://images.gr...|\n",
            "|  8|    5107|        5107| 3036731|        360| 316769177|9.78031676917E12|       J.D. Salinger|                   1951.0|The Catcher in th...|The Catcher in th...|          eng|          3.79|      2044241|           2120637|                  44920| 109383.0|   185520|   455042|   661516|   709176|https://images.gr...|https://images.gr...|\n",
            "|  9|     960|         960| 3338963|        311|1416524797|9.78141652479E12|           Dan Brown|                   2000.0|    Angels & Demons |Angels & Demons  ...|        en-CA|          3.85|      2001311|           2078754|                  25112|  77841.0|   145740|   458429|   716569|   680175|https://images.gr...|https://images.gr...|\n",
            "| 10|    1885|        1885| 3060926|       3455| 679783261|9.78067978327E12|         Jane Austen|                   1813.0| Pride and Prejudice| Pride and Prejudice|          eng|          4.24|      2035490|           2191465|                  49152|  54700.0|    86485|   284852|   609755|  1155673|https://images.gr...|https://images.gr...|\n",
            "| 11|   77203|       77203| 3295919|        283|1594480001|   9.78159448E12|     Khaled Hosseini|                   2003.0|    The Kite Runner |     The Kite Runner|          eng|          4.26|      1813044|           1878095|                  59730|  34288.0|    59980|   226062|   628174|   929591|https://images.gr...|https://images.gr...|\n",
            "| 12|13335037|    13335037|13155899|        210|  62024035|9.78006202404E12|       Veronica Roth|                   2011.0|           Divergent|Divergent (Diverg...|          eng|          4.24|      1903563|           2216814|                 101023|  36315.0|    82870|   310297|   673028|  1114304|https://images.gr...|https://images.gr...|\n",
            "| 13|    5470|        5470|  153313|        995| 451524934|9.78045152494E12|George Orwell, Er...|                   1949.0|Nineteen Eighty-Four|                1984|          eng|          4.14|      1956832|           2053394|                  45518|  41845.0|    86425|   324874|   692021|   908229|https://images.gr...|https://images.gr...|\n",
            "| 14|    7613|        7613| 2207778|        896| 452284244|9.78045228424E12|       George Orwell|                   1945.0|Animal Farm: A Fa...|         Animal Farm|          eng|          3.87|      1881700|           1982987|                  35472|  66854.0|   135147|   433432|   698642|   648912|https://images.gr...|https://images.gr...|\n",
            "| 15|   48855|       48855| 3532896|        710| 553296981|9.78055329698E12|Anne Frank, Elean...|                   1947.0|Het Achterhuis: D...|The Diary of a Yo...|          eng|           4.1|      1972666|           2024493|                  20825|  45225.0|    91270|   355756|   656870|   875372|https://images.gr...|https://images.gr...|\n",
            "| 16| 2429135|     2429135| 1708725|        274| 307269752|9.78030726975E12|Stieg Larsson, Re...|                   2005.0|Män som hatar kvi...|The Girl with the...|          eng|          4.11|      1808403|           1929834|                  62543|  54835.0|    86051|   285413|   667485|   836050|https://images.gr...|https://images.gr...|\n",
            "| 17| 6148028|     6148028| 6171458|        201| 439023491| 9.7804390235E12|     Suzanne Collins|                   2009.0|       Catching Fire|Catching Fire (Th...|          eng|           4.3|      1831039|           1988079|                  88538|  10492.0|    48030|   262010|   687238|   980309|https://images.gr...|https://images.gr...|\n",
            "| 18|       5|           5| 2402163|        376|043965548X|9.78043965548E12|J.K. Rowling, Mar...|                   1999.0|Harry Potter and ...|Harry Potter and ...|          eng|          4.53|      1832823|           1969375|                  36099|   6716.0|    20413|   166129|   509447|  1266670|https://images.gr...|https://images.gr...|\n",
            "| 19|      34|          34| 3204327|        566| 618346252|9.78061834626E12|      J.R.R. Tolkien|                   1954.0| The Fellowship o...|The Fellowship of...|          eng|          4.34|      1766803|           1832541|                  15333|  38031.0|    55862|   202332|   493922|  1042394|https://images.gr...|https://images.gr...|\n",
            "| 20| 7260188|     7260188| 8812783|        239| 439023513|9.78043902351E12|     Suzanne Collins|                   2010.0|          Mockingjay|Mockingjay (The H...|          eng|          4.03|      1719760|           1870748|                  96274|  30144.0|   110498|   373060|   618271|   738775|https://images.gr...|https://images.gr...|\n",
            "+---+--------+------------+--------+-----------+----------+----------------+--------------------+-------------------------+--------------------+--------------------+-------------+--------------+-------------+------------------+-----------------------+---------+---------+---------+---------+---------+--------------------+--------------------+\n",
            "only showing top 20 rows\n",
            "\n"
          ]
        }
      ]
    },
    {
      "cell_type": "code",
      "source": [
        "filtrBookDf = df_Book.filter(\"original_publication_year is not null AND original_publication_year > 0\" )"
      ],
      "metadata": {
        "id": "79s4qI0D3kp7"
      },
      "execution_count": 87,
      "outputs": []
    },
    {
      "cell_type": "code",
      "source": [
        "filtrBookDf.orderBy(\"original_publication_year\",ascending=True).select(\"original_title\",\"original_publication_year\").show(10)"
      ],
      "metadata": {
        "id": "sdSYMiy53knl",
        "colab": {
          "base_uri": "https://localhost:8080/"
        },
        "outputId": "39669f5d-fca7-479f-909e-b6a5ef6fb004"
      },
      "execution_count": 88,
      "outputs": [
        {
          "output_type": "stream",
          "name": "stdout",
          "text": [
            "+--------------------+-------------------------+\n",
            "|      original_title|original_publication_year|\n",
            "+--------------------+-------------------------+\n",
            "|       Metamorphoses|                      8.0|\n",
            "|   De vita Caesarum |                    119.0|\n",
            "|      Τὰ εἰς ἑαυτόν |                    180.0|\n",
            "|Confessiones Sanc...|                    397.0|\n",
            "|القرآن‎‎ [al-Qurʾān]|                    609.0|\n",
            "|كِتَاب أَلْف لَيْ...|                    800.0|\n",
            "|             Beowulf|                    975.0|\n",
            "|رباعیات [Robāʿiāt...|                   1120.0|\n",
            "|      Essential Rumi|                   1273.0|\n",
            "|  La Divina Commedia|                   1308.0|\n",
            "+--------------------+-------------------------+\n",
            "only showing top 10 rows\n",
            "\n"
          ]
        }
      ]
    },
    {
      "cell_type": "code",
      "source": [
        "filtrBookDf.createOrReplaceGlobalTempView(\"books\")"
      ],
      "metadata": {
        "id": "w9J2l_g73klE"
      },
      "execution_count": 89,
      "outputs": []
    },
    {
      "cell_type": "code",
      "source": [
        "filtrBookDf.filter(filtrBookDf[\"original_publication_year\"] > 1960) \\\n",
        "       .groupBy(\"original_publication_year\") \\\n",
        "       .agg(count(\"*\").alias(\"count\")) \\\n",
        "       .show()"
      ],
      "metadata": {
        "id": "5GDjL-4s3kgd",
        "colab": {
          "base_uri": "https://localhost:8080/"
        },
        "outputId": "7d1192ac-e415-4ca6-a9a3-f3ebe93935eb"
      },
      "execution_count": 91,
      "outputs": [
        {
          "output_type": "stream",
          "name": "stdout",
          "text": [
            "+-------------------------+-----+\n",
            "|original_publication_year|count|\n",
            "+-------------------------+-----+\n",
            "|                   1988.0|   89|\n",
            "|                   1976.0|   39|\n",
            "|                   1979.0|   48|\n",
            "|                   1987.0|   83|\n",
            "|                   1978.0|   48|\n",
            "|                   1968.0|   35|\n",
            "|                   2010.0|  473|\n",
            "|                   1967.0|   24|\n",
            "|                   1964.0|   19|\n",
            "|                   1993.0|  115|\n",
            "|                   2001.0|  226|\n",
            "|                   1965.0|   23|\n",
            "|                   1984.0|   67|\n",
            "|                   1973.0|   35|\n",
            "|                   1980.0|   54|\n",
            "|                   1966.0|   21|\n",
            "|                   1997.0|  168|\n",
            "|                   1992.0|  112|\n",
            "|                   1990.0|   99|\n",
            "|                   1995.0|  126|\n",
            "+-------------------------+-----+\n",
            "only showing top 20 rows\n",
            "\n"
          ]
        }
      ]
    },
    {
      "cell_type": "code",
      "source": [
        "resultDF = filtrBookDf.filter(filtrBookDf[\"original_publication_year\"] > 1960) \\\n",
        "       .groupBy(\"original_publication_year\") \\\n",
        "       .agg(count(\"*\").alias(\"count\")) \\\n",
        "       .toPandas()"
      ],
      "metadata": {
        "id": "7NFakMTI3kdx"
      },
      "execution_count": 92,
      "outputs": []
    },
    {
      "cell_type": "markdown",
      "source": [
        "**Görselleştirme**"
      ],
      "metadata": {
        "id": "NkBJttoAu46v"
      }
    },
    {
      "cell_type": "code",
      "source": [
        "import matplotlib.pyplot as plt\n",
        "\n",
        "plt.figure(figsize=(12, 6))\n",
        "plt.bar(resultDF['original_publication_year'], resultDF['count'], color='skyblue')\n",
        "plt.xlabel('Yayın Yılı', fontsize=12)\n",
        "plt.ylabel('Kitap Sayısı', fontsize=12)\n",
        "plt.title('1960 Sonrası Yıllara Göre Yayınlanan Kitap Sayısı', fontsize=14)\n",
        "plt.xticks(rotation=45)\n",
        "plt.grid(axis='y', linestyle='--', alpha=0.7)\n",
        "plt.show()\n"
      ],
      "metadata": {
        "id": "t2K0Y_kQ3kW7",
        "colab": {
          "base_uri": "https://localhost:8080/",
          "height": 590
        },
        "outputId": "8d38fa0e-57fb-4b01-81e2-8a4186f8eb1f"
      },
      "execution_count": 102,
      "outputs": [
        {
          "output_type": "display_data",
          "data": {
            "text/plain": [
              "<Figure size 1200x600 with 1 Axes>"
            ],
            "image/png": "[encoded data removed]"
          },
          "metadata": {}
        }
      ]
    },
    {
      "cell_type": "code",
      "source": [],
      "metadata": {
        "id": "RgnNWHM83kUp"
      },
      "execution_count": null,
      "outputs": []
    },
    {
      "cell_type": "code",
      "source": [],
      "metadata": {
        "id": "uI8v_paj3kR8"
      },
      "execution_count": null,
      "outputs": []
    },
    {
      "cell_type": "code",
      "source": [],
      "metadata": {
        "id": "4v8ysFwX3j-F"
      },
      "execution_count": null,
      "outputs": []
    },
    {
      "cell_type": "code",
      "source": [],
      "metadata": {
        "id": "QXUHz6Zs3j7e"
      },
      "execution_count": null,
      "outputs": []
    },
    {
      "cell_type": "code",
      "source": [],
      "metadata": {
        "id": "Q-c3F9R93j4v"
      },
      "execution_count": null,
      "outputs": []
    },
    {
      "cell_type": "code",
      "source": [],
      "metadata": {
        "id": "IwxB_Umg3j2Z"
      },
      "execution_count": null,
      "outputs": []
    },
    {
      "cell_type": "code",
      "source": [],
      "metadata": {
        "id": "s2htNiDu3jz1"
      },
      "execution_count": null,
      "outputs": []
    },
    {
      "cell_type": "code",
      "source": [],
      "metadata": {
        "id": "IKm0FW_a3jwL"
      },
      "execution_count": null,
      "outputs": []
    },
    {
      "cell_type": "code",
      "source": [],
      "metadata": {
        "id": "hwHJnqoc3jtj"
      },
      "execution_count": null,
      "outputs": []
    },
    {
      "cell_type": "code",
      "source": [],
      "metadata": {
        "id": "9kaPQRXY3jrM"
      },
      "execution_count": null,
      "outputs": []
    },
    {
      "cell_type": "code",
      "source": [],
      "metadata": {
        "id": "7qRmhh_d3jmD"
      },
      "execution_count": null,
      "outputs": []
    },
    {
      "cell_type": "code",
      "source": [],
      "metadata": {
        "id": "O4L-ttk8hY7P"
      },
      "execution_count": null,
      "outputs": []
    },
    {
      "cell_type": "code",
      "source": [],
      "metadata": {
        "id": "aqJwyPLhhY2n"
      },
      "execution_count": null,
      "outputs": []
    },
    {
      "cell_type": "code",
      "source": [],
      "metadata": {
        "id": "IHy5Wz_mhY0n"
      },
      "execution_count": null,
      "outputs": []
    },
    {
      "cell_type": "code",
      "source": [],
      "metadata": {
        "id": "Ftv-FMXIhYyK"
      },
      "execution_count": null,
      "outputs": []
    },
    {
      "cell_type": "code",
      "source": [],
      "metadata": {
        "id": "4i0WEZhyhYvj"
      },
      "execution_count": null,
      "outputs": []
    }
  ]
}